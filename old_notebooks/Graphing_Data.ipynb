{
 "cells": [
  {
   "cell_type": "code",
   "execution_count": 1,
   "metadata": {},
   "outputs": [],
   "source": [
    "%matplotlib widget\n",
    "import numpy as np\n",
    "import scipy.io\n",
    "import matplotlib.pyplot as plt\n",
    "import random"
   ]
  },
  {
   "cell_type": "code",
   "execution_count": 2,
   "metadata": {},
   "outputs": [],
   "source": [
    "def get_data_from_mat(file_path, output_index=None, type='pre_pn'):\n",
    "    data = scipy.io.loadmat(file_path)\n",
    "    data2 = scipy.io.loadmat('data/bursts/nonburst_separatePNITNv1.mat')\n",
    "\n",
    "    full_labels = []\n",
    "    full_data = []\n",
    "    \n",
    "    for i in range(1, data['info_collect'].shape[0]):\n",
    "        arr = data['info_collect'][i]\n",
    "        \n",
    "        pnfr = np.row_stack((arr[2], arr[11]))\n",
    "        pnaff = np.row_stack((arr[4], arr[13]))\n",
    "        \n",
    "        for j in range(pnfr.shape[0]):\n",
    "            if j >= 2:\n",
    "                pnfr[j,:] = (pnfr[j-2,:] + pnfr[j-1,:] + pnfr[j,:])/3\n",
    "                pnaff[j,:] = (pnaff[j-2,:] + pnaff[j-1,:] + pnaff[j,:])/3\n",
    "            else:\n",
    "                pnfr[j,:] = pnfr[j,:]\n",
    "                pnaff[j,:] = pnaff[j,:]\n",
    "\n",
    "        full_labels.append(np.row_stack((arr[10], arr[19])))\n",
    "        \n",
    "        full_data.append(np.column_stack((pnaff, \n",
    "                                          np.row_stack((arr[5], arr[14])),\n",
    "                                          np.row_stack((arr[10], arr[19]))\n",
    "                                         ))\n",
    "                        )\n",
    "    for i in range(1, data2['info_collect_insig'].shape[0]):\n",
    "        arr = data2['info_collect_insig'][i]\n",
    "        \n",
    "        pnfr = np.row_stack((arr[2], arr[11]))\n",
    "        pnaff = np.row_stack((arr[4], arr[13]))\n",
    "        \n",
    "        for j in range(pnfr.shape[0]):\n",
    "            if j >= 2:\n",
    "                pnfr[j,:] = (pnfr[j-2,:] + pnfr[j-1,:] + pnfr[j,:])/3\n",
    "                pnaff[j,:] = (pnaff[j-2,:] + pnaff[j-1,:] + pnaff[j,:])/3\n",
    "            else:\n",
    "                pnfr[j,:] = pnfr[j,:]\n",
    "                pnaff[j,:] = pnaff[j,:]\n",
    "\n",
    "        full_labels.append(np.row_stack((arr[10], arr[19])))\n",
    "        \n",
    "        full_data.append(np.column_stack((pnaff, \n",
    "                                          np.row_stack((arr[5], arr[14])),\n",
    "                                          np.row_stack((arr[10], arr[19]))\n",
    "                                         ))\n",
    "                        )\n",
    "\n",
    "    full_data = np.asarray(full_data,dtype=object)\n",
    "    full_labels = np.asarray(full_labels,dtype=object)\n",
    "\n",
    "    return full_data, full_labels"
   ]
  },
  {
   "cell_type": "code",
   "execution_count": 10,
   "metadata": {},
   "outputs": [],
   "source": [
    "data, labels = get_data_from_mat('data/bursts/burst_separatePNITNv3.mat')"
   ]
  },
  {
   "cell_type": "code",
   "execution_count": 17,
   "metadata": {},
   "outputs": [
    {
     "data": {
      "application/vnd.jupyter.widget-view+json": {
       "model_id": "dafaedcc29a34d9bb3880f0a7ea186bb",
       "version_major": 2,
       "version_minor": 0
      },
      "text/plain": [
       "Canvas(toolbar=Toolbar(toolitems=[('Home', 'Reset original view', 'home', 'home'), ('Back', 'Back to previous …"
      ]
     },
     "metadata": {},
     "output_type": "display_data"
    }
   ],
   "source": [
    "sample = 0\n",
    "# print(data[sample].shape)\n",
    "time_s = np.arange(data[sample].shape[0])\n",
    "\n",
    "fig, axs = plt.subplots(3,1)\n",
    "fig.tight_layout()\n",
    "axs[0].plot(time_s, data[sample][:,0])\n",
    "axs[0].set_title('PN Afferents')\n",
    "axs[1].plot(time_s, data[sample][:,1])\n",
    "axs[1].set_title('ITN Afferents')\n",
    "axs[2].plot(time_s, data[sample][:,2])\n",
    "axs[2].set_title('LFP')\n",
    "\n",
    "plt.show()"
   ]
  },
  {
   "cell_type": "code",
   "execution_count": 19,
   "metadata": {},
   "outputs": [
    {
     "data": {
      "application/vnd.jupyter.widget-view+json": {
       "model_id": "146b9b75e7d04c569a35347c8914b12d",
       "version_major": 2,
       "version_minor": 0
      },
      "text/plain": [
       "Canvas(toolbar=Toolbar(toolitems=[('Home', 'Reset original view', 'home', 'home'), ('Back', 'Back to previous …"
      ]
     },
     "metadata": {},
     "output_type": "display_data"
    }
   ],
   "source": [
    "sample2 = 10000\n",
    "# print(data[sample].shape)\n",
    "time_s2 = np.arange(data[sample2].shape[0])\n",
    "\n",
    "fig2, axs2 = plt.subplots(3,1)\n",
    "fig2.tight_layout()\n",
    "axs2[0].plot(time_s2, data[sample2][:,0])\n",
    "axs2[0].set_title('PN Afferents')\n",
    "axs2[1].plot(time_s2, data[sample2][:,1])\n",
    "axs2[1].set_title('ITN Afferents')\n",
    "axs2[2].plot(time_s2, data[sample2][:,2])\n",
    "axs2[2].set_title('LFP')\n",
    "\n",
    "plt.show()"
   ]
  },
  {
   "cell_type": "code",
   "execution_count": null,
   "metadata": {},
   "outputs": [],
   "source": []
  }
 ],
 "metadata": {
  "kernelspec": {
   "display_name": "Python 3",
   "language": "python",
   "name": "python3"
  },
  "language_info": {
   "codemirror_mode": {
    "name": "ipython",
    "version": 3
   },
   "file_extension": ".py",
   "mimetype": "text/x-python",
   "name": "python",
   "nbconvert_exporter": "python",
   "pygments_lexer": "ipython3",
   "version": "3.8.5"
  }
 },
 "nbformat": 4,
 "nbformat_minor": 4
}
