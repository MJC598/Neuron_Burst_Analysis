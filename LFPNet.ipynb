{
 "cells": [
  {
   "cell_type": "code",
   "execution_count": 1,
   "metadata": {},
   "outputs": [],
   "source": [
    "RunningInCOLAB = 'google.colab' in str(get_ipython())\n",
    "COLAB_PRE = 'Neuron_Burst_Analysis/'\n",
    "if RunningInCOLAB:\n",
    "    !git clone https://github.com/MJC598/Neuron_Burst_Analysis.git\n",
    "    paths.LOSS_FILE = COLAB_PRE + paths.LOSS_FILE\n",
    "    paths.PATH = COLAB_PRE + paths.PATH"
   ]
  },
  {
   "cell_type": "code",
   "execution_count": 2,
   "metadata": {},
   "outputs": [],
   "source": [
    "%matplotlib widget\n",
    "import torch\n",
    "import torch.nn as nn\n",
    "from torch.utils.data import TensorDataset, DataLoader\n",
    "import numpy as np\n",
    "from numpy.random import MT19937\n",
    "from numpy.random import RandomState, SeedSequence\n",
    "from numpy.random import default_rng\n",
    "import matplotlib.pyplot as plt\n",
    "from tqdm.notebook import tqdm\n",
    "import scipy.io\n",
    "from scipy import signal\n",
    "import random\n",
    "import time\n",
    "import pandas as pds\n",
    "from sklearn.metrics import r2_score, mean_squared_error\n",
    "import copy\n",
    "\n",
    "from utils import preprocess, metrics\n",
    "from config import params, paths\n",
    "from models import LFPNet\n",
    "\n",
    "s = 67\n",
    "\n",
    "rs = RandomState(MT19937(SeedSequence(s)))\n",
    "rng = default_rng(seed=s)\n",
    "torch.manual_seed(s)\n",
    "\n",
    "plt.rcParams.update({'font.size': 32})"
   ]
  },
  {
   "cell_type": "code",
   "execution_count": 3,
   "metadata": {},
   "outputs": [],
   "source": [
    "def train_model(model,save_filepath,training_loader,validation_loader,epochs,device):\n",
    "    epochs_list = []\n",
    "    train_loss_list = []\n",
    "    val_loss_list = []\n",
    "    training_len = len(training_loader.dataset)\n",
    "    validation_len = len(validation_loader.dataset)\n",
    "    \n",
    "#     feedback_arr = torch.zeros(params.BATCH_SIZE, 90)\n",
    "    \n",
    "    #splitting the dataloaders to generalize code\n",
    "    data_loaders = {\"train\": training_loader, \"val\": validation_loader}\n",
    "    optimizer = torch.optim.Adam(model.parameters(), lr=0.001)\n",
    "    loss_func = nn.MSELoss()\n",
    "#     loss_func = nn.L1Loss()\n",
    "    decay_rate = 1.0 #decay the lr each step to 98% of previous lr\n",
    "    lr_sch = torch.optim.lr_scheduler.ExponentialLR(optimizer=optimizer, gamma=decay_rate)\n",
    "\n",
    "    total_start = time.time()\n",
    "\n",
    "    \"\"\"\n",
    "    You can easily adjust the number of epochs trained here by changing the number in the range\n",
    "    \"\"\"\n",
    "    for epoch in tqdm(range(epochs), position=0, leave=True):\n",
    "        start = time.time()\n",
    "        train_loss = 0.0\n",
    "        val_loss = 0.0\n",
    "        temp_loss = 100000000000000.0\n",
    "        for phase in ['train', 'val']:\n",
    "            if phase == 'train':\n",
    "                model.train(True)\n",
    "            else:\n",
    "                model.train(False)\n",
    "\n",
    "            running_loss = 0.0\n",
    "            for i, (x, y) in enumerate(data_loaders[phase]):\n",
    "                if params.RECURRENT_NET:\n",
    "                    x = torch.transpose(x, 2, 1)\n",
    "                x = x.to(device)\n",
    "                output = model(x)\n",
    "                y = y.to(device)\n",
    "#                 if i%100000 == 0 and epoch%5 == 0:\n",
    "#                     print(output)\n",
    "#                     print(y)\n",
    "                loss = loss_func(torch.squeeze(output), torch.squeeze(y)) \n",
    "                #backprop             \n",
    "                optimizer.zero_grad()\n",
    "                if phase == 'train':\n",
    "                    loss.backward()\n",
    "                    optimizer.step()\n",
    "#                     if i%100000 == 0 and epoch%5 == 0:\n",
    "#                         print(model.cn1.weight.grad)\n",
    "#                         print(model.cn2.weight.grad)\n",
    "#                         print(model.fc1.weight.grad)\n",
    "#                         print(model.fc2.weight.grad)\n",
    "\n",
    "                #calculating total loss\n",
    "                running_loss += loss.item()\n",
    "            \n",
    "            if phase == 'train':\n",
    "                train_loss = running_loss\n",
    "                lr_sch.step()\n",
    "            else:\n",
    "                val_loss = running_loss\n",
    "\n",
    "        end = time.time()\n",
    "        # shows total loss\n",
    "        if epoch%5 == 0:\n",
    "            print('[%d, %5d] train loss: %.6f val loss: %.6f' % (epoch + 1, i + 1, train_loss, val_loss))\n",
    "#         print(end - start)\n",
    "        \n",
    "        #saving best model\n",
    "        if train_loss < temp_loss:\n",
    "            torch.save(model, save_filepath)\n",
    "            temp_loss = train_loss\n",
    "        epochs_list.append(epoch)\n",
    "        train_loss_list.append(train_loss)\n",
    "        val_loss_list.append(val_loss)\n",
    "    total_end = time.time()\n",
    "#     print(total_end - total_start)\n",
    "    #Creating loss csv\n",
    "    loss_df = pds.DataFrame(\n",
    "        {\n",
    "            'epoch': epochs_list,\n",
    "            'training loss': train_loss_list,\n",
    "            'validation loss': val_loss_list\n",
    "        }\n",
    "    )\n",
    "    # Writing loss csv, change path to whatever you want to name it\n",
    "    \n",
    "    loss_df.to_csv(paths.LOSS_FILE, index=None)\n",
    "    return train_loss_list, val_loss_list"
   ]
  },
  {
   "cell_type": "code",
   "execution_count": 4,
   "metadata": {},
   "outputs": [
    {
     "name": "stdout",
     "output_type": "stream",
     "text": [
      "Training Data: (450000, 1, 1024)\n",
      "Training Labels: (450000, 1, 100)\n",
      "Validation Data: (50000, 1, 1024)\n",
      "Validation Labels: (50000, 1, 100)\n",
      "training_dataset built\n",
      "validation_dataset built\n"
     ]
    }
   ],
   "source": [
    "f_tr, f_va = preprocess.get_rawLFP()"
   ]
  },
  {
   "cell_type": "code",
   "execution_count": 5,
   "metadata": {},
   "outputs": [],
   "source": [
    "# f_tr, f_va, f_data = preprocess.get_filteredLFP()\n",
    "# f_tr, f_va, f_data = get_rawLFP()\n",
    "# f_tr, f_va, t_filt, v_filt = preprocess.get_end1D()#f_data, t_filt, v_filt, f_filt = get_end1D()\n",
    "\n",
    "# f_tr, f_va, f_data = preprocess.get_rawLFP()\n",
    "\n",
    "\n",
    "# noise = get_WN(channels=2)\n",
    "# sin = get_sin()\n",
    "\n",
    "# burst, fburst = preprocess.get_burstLFP()\n",
    "\n",
    "# Turn datasets into iterable dataloaders\n",
    "train_loader = DataLoader(dataset=f_tr,batch_size=params.BATCH_SIZE)\n",
    "# tfilt_loader = DataLoader(dataset=t_filt,params.BATCH_SIZE=params.BATCH_SIZE)\n",
    "val_loader = DataLoader(dataset=f_va,batch_size=params.BATCH_SIZE)\n",
    "# vfilt_loader = DataLoader(dataset=v_filt,params.BATCH_SIZE=params.BATCH_SIZE)\n",
    "\n",
    "# full_loader = DataLoader(dataset=f_data,batch_size=params.BATCH_SIZE)\n",
    "\n",
    "# ffull_loader = DataLoader(dataset=f_filt,params.BATCH_SIZE=params.BATCH_SIZE)\n",
    "# noise_loader = DataLoader(dataset=noise,params.BATCH_SIZE=params.BATCH_SIZE)\n",
    "# sine_loader = DataLoader(dataset=sin,params.BATCH_SIZE=params.BATCH_SIZE)\n",
    "\n",
    "# burst_loader = DataLoader(dataset=burst,params.BATCH_SIZE=params.BATCH_SIZE)\n",
    "# fburst_loader = DataLoader(dataset=fburst,params.BATCH_SIZE=params.BATCH_SIZE)"
   ]
  },
  {
   "cell_type": "code",
   "execution_count": 6,
   "metadata": {},
   "outputs": [
    {
     "data": {
      "application/vnd.jupyter.widget-view+json": {
       "model_id": "947326993927420a9d937ce719deccda",
       "version_major": 2,
       "version_minor": 0
      },
      "text/plain": [
       "  0%|          | 0/30 [00:00<?, ?it/s]"
      ]
     },
     "metadata": {},
     "output_type": "display_data"
    },
    {
     "name": "stdout",
     "output_type": "stream",
     "text": [
      "[1,    98] train loss: 1.837672 val loss: 0.199956\n",
      "[6,    98] train loss: 1.785483 val loss: 0.199270\n",
      "[11,    98] train loss: 1.782164 val loss: 0.198890\n",
      "[16,    98] train loss: 1.779642 val loss: 0.198568\n",
      "[21,    98] train loss: 1.778261 val loss: 0.198370\n",
      "[26,    98] train loss: 1.777356 val loss: 0.198267\n"
     ]
    }
   ],
   "source": [
    "model1 = params.MODEL(params.INPUT_SIZE,params.HIDDEN_SIZE,params.OUTPUT_SIZE)\n",
    "# model1 = torch.load(paths.PATH)\n",
    "model_initial = copy.deepcopy(model1)\n",
    "device = torch.device(\"cuda:0\" if torch.cuda.is_available() else \"cpu\")\n",
    "model1.to(device)\n",
    "# for name, param in model1.named_parameters():\n",
    "#     print(name)\n",
    "#     param.requires_grad = True\n",
    "\n",
    "# model1.rnn.weight_ih_l0.requires_grad = True\n",
    "# model1.rnn.weight_hh_l0.requires_grad = True\n",
    "# model1.rnn.bias_ih_l0.requires_grad = True\n",
    "# model1.rnn.bias_hh_l0.requires_grad = True\n",
    "\n",
    "# model1.convs2k3.weight.requires_grad = True\n",
    "# model1.convs2k3.bias.requires_grad = True\n",
    "# model1.dilation.weight.requires_grad = True\n",
    "# model1.dilation.bias.requires_grad = True\n",
    "# model1.convs1k5.weight.requires_grad = True\n",
    "# model1.convs1k5.bias.requires_grad = True\n",
    "# model1.convs1k3.weight.requires_grad = True\n",
    "# model1.convs1k3.bias.requires_grad = True\n",
    "\n",
    "pnfr_training_loss, pnfr_validation_loss = train_model(model1,paths.PATH,train_loader,\n",
    "                                                       val_loader,params.EPOCHS,device)"
   ]
  },
  {
   "cell_type": "code",
   "execution_count": 7,
   "metadata": {},
   "outputs": [
    {
     "name": "stdout",
     "output_type": "stream",
     "text": [
      "0 steps ahead: 0.700067227140946\n",
      "1 steps ahead: 0.4713345931694194\n",
      "2 steps ahead: 0.33601889232039406\n",
      "3 steps ahead: 0.26933802664822903\n",
      "4 steps ahead: 0.2122276653651759\n",
      "5 steps ahead: 0.19266884282023578\n",
      "6 steps ahead: 0.17198218010916733\n",
      "7 steps ahead: 0.1591715878822726\n",
      "8 steps ahead: 0.12599113963297193\n",
      "9 steps ahead: 0.10621003394868023\n",
      "10 steps ahead: 0.08210494345426045\n",
      "11 steps ahead: 0.06076381484043103\n",
      "12 steps ahead: 0.04823866729896087\n",
      "13 steps ahead: 0.036181230456856395\n",
      "14 steps ahead: 0.03142024696900314\n",
      "15 steps ahead: 0.028347767983876282\n",
      "16 steps ahead: 0.02490230416363437\n",
      "17 steps ahead: 0.01938767731404678\n",
      "18 steps ahead: 0.013204513631256853\n",
      "19 steps ahead: 0.008065523792802232\n",
      "20 steps ahead: 0.004846906482204427\n",
      "21 steps ahead: 0.0038599331464514997\n",
      "22 steps ahead: 0.0032676706263347066\n",
      "23 steps ahead: 0.0038566969662553463\n",
      "24 steps ahead: 0.002841435301224826\n",
      "25 steps ahead: 0.0025519774664687356\n",
      "26 steps ahead: 0.0015964192544770661\n",
      "27 steps ahead: 0.00026350040112343986\n",
      "28 steps ahead: -0.0003643069362326834\n",
      "29 steps ahead: -0.0006471910281800053\n",
      "30 steps ahead: -0.0012861969557529385\n",
      "31 steps ahead: -0.0006449792767091456\n",
      "32 steps ahead: -0.00011277122675901197\n",
      "33 steps ahead: 0.00043034780366679737\n",
      "34 steps ahead: 8.377260493752647e-05\n",
      "35 steps ahead: -0.00023338603796019264\n",
      "36 steps ahead: -0.00018960115622235207\n",
      "37 steps ahead: -0.000993890071505188\n",
      "38 steps ahead: -0.0008433305488220189\n",
      "39 steps ahead: -0.00013805522865895092\n",
      "40 steps ahead: -5.148974402646722e-05\n",
      "41 steps ahead: -2.6379805428078384e-05\n",
      "42 steps ahead: -0.0002429863053876602\n",
      "43 steps ahead: -8.133351798012001e-05\n",
      "44 steps ahead: -0.00044832424771867885\n",
      "45 steps ahead: -0.0002052075536063125\n",
      "46 steps ahead: -0.00014844843452488377\n",
      "47 steps ahead: -0.00019020264810820642\n",
      "48 steps ahead: -0.001179009367286099\n",
      "49 steps ahead: -0.002090056987023692\n",
      "50 steps ahead: -0.001495606713163511\n",
      "51 steps ahead: -0.0003973536834083191\n",
      "52 steps ahead: 5.370110735092304e-06\n",
      "53 steps ahead: -0.000772716071657964\n",
      "54 steps ahead: -0.0010942667784077376\n",
      "55 steps ahead: -0.002221451667007379\n",
      "56 steps ahead: -0.0014717979466813969\n",
      "57 steps ahead: -0.0018204022029792988\n",
      "58 steps ahead: -0.0006463398019442845\n",
      "59 steps ahead: -0.0006634878162208313\n",
      "60 steps ahead: -0.0008324122973977222\n",
      "61 steps ahead: -6.998499908128508e-05\n",
      "62 steps ahead: 1.2471802808056154e-05\n",
      "63 steps ahead: -0.00016518074204419086\n",
      "64 steps ahead: -0.00022091524882239533\n",
      "65 steps ahead: -9.554376181331037e-06\n",
      "66 steps ahead: -0.00014908925606893497\n",
      "67 steps ahead: 6.822659779393003e-05\n",
      "68 steps ahead: -1.8740912465675663e-05\n",
      "69 steps ahead: -0.0007399463857031829\n",
      "70 steps ahead: -0.0014430060590353566\n",
      "71 steps ahead: -5.0245643244517524e-05\n",
      "72 steps ahead: -0.00011371049219932594\n",
      "73 steps ahead: -5.5246514066853436e-05\n",
      "74 steps ahead: -0.00025764904333125394\n",
      "75 steps ahead: -0.0012536136401612996\n",
      "76 steps ahead: -0.0008222964702655489\n",
      "77 steps ahead: -0.00010225013826548057\n",
      "78 steps ahead: -0.00038074153651157516\n",
      "79 steps ahead: -0.00031267412454427657\n",
      "80 steps ahead: -1.6597404032703267e-05\n",
      "81 steps ahead: -2.8299841144052706e-05\n",
      "82 steps ahead: -0.0004435631081283198\n",
      "83 steps ahead: -0.0005537891457714217\n",
      "84 steps ahead: -0.0016938868863978218\n",
      "85 steps ahead: -0.0007576674791653915\n",
      "86 steps ahead: -6.634818682238475e-06\n",
      "87 steps ahead: -2.8779908478604455e-07\n",
      "88 steps ahead: -4.1207492276651436e-05\n",
      "89 steps ahead: -0.00016863246941412058\n",
      "90 steps ahead: -0.00046850718662705404\n",
      "91 steps ahead: -0.0014196945005064965\n",
      "92 steps ahead: -0.0012827091883285124\n",
      "93 steps ahead: -0.0013232245711696233\n",
      "94 steps ahead: -0.0005798359298760936\n",
      "95 steps ahead: -0.0001099598718046213\n",
      "96 steps ahead: -3.636771954185214e-05\n",
      "97 steps ahead: -0.00022438030990890034\n",
      "98 steps ahead: -0.00013869051999626514\n",
      "99 steps ahead: -0.00017771205553795966\n",
      "0 steps ahead: 0.7020811760625925\n",
      "1 steps ahead: 0.4771923529997726\n",
      "2 steps ahead: 0.3400240992137402\n",
      "3 steps ahead: 0.27466564443857855\n",
      "4 steps ahead: 0.2192276969982182\n",
      "5 steps ahead: 0.19373460844642854\n",
      "6 steps ahead: 0.1764049607295871\n",
      "7 steps ahead: 0.1633315704742665\n",
      "8 steps ahead: 0.1268523306701761\n",
      "9 steps ahead: 0.10294055969259741\n",
      "10 steps ahead: 0.07928228567828799\n",
      "11 steps ahead: 0.057630282342718386\n",
      "12 steps ahead: 0.04532922980496623\n",
      "13 steps ahead: 0.04026315667095648\n",
      "14 steps ahead: 0.036089152374306654\n",
      "15 steps ahead: 0.02978190284981186\n",
      "16 steps ahead: 0.026037524095346876\n",
      "17 steps ahead: 0.020186162040788602\n",
      "18 steps ahead: 0.013030656608237434\n",
      "19 steps ahead: 0.008376196394728641\n",
      "20 steps ahead: 0.005472914341793422\n",
      "21 steps ahead: 0.004357578195346545\n",
      "22 steps ahead: 0.0040082818293077915\n",
      "23 steps ahead: 0.005147315656176876\n",
      "24 steps ahead: 0.004459402911109023\n",
      "25 steps ahead: 0.0033336753154669108\n",
      "26 steps ahead: 0.002199779439023386\n",
      "27 steps ahead: 0.0009086110918024026\n",
      "28 steps ahead: 0.0003572364927798555\n",
      "29 steps ahead: 0.00011320107609469332\n",
      "30 steps ahead: -0.0004988343955945052\n",
      "31 steps ahead: -7.899706822112051e-05\n",
      "32 steps ahead: 0.00029481673855824564\n",
      "33 steps ahead: 0.00038924001591889024\n",
      "34 steps ahead: -1.1239519631445205e-05\n",
      "35 steps ahead: -0.0008472945635142892\n",
      "36 steps ahead: -0.0004501403131167425\n",
      "37 steps ahead: -0.0011532629006916206\n",
      "38 steps ahead: -0.0008119008426705765\n",
      "39 steps ahead: -0.0001472946826130972\n",
      "40 steps ahead: -0.00012511522476255088\n",
      "41 steps ahead: -4.554566641834512e-06\n",
      "42 steps ahead: -0.0004746581336796396\n",
      "43 steps ahead: -2.0634026337562617e-05\n",
      "44 steps ahead: -0.00033761597606174476\n",
      "45 steps ahead: -2.2943823512200368e-05\n",
      "46 steps ahead: -5.1005058504749456e-05\n",
      "47 steps ahead: -1.2966722304330602e-05\n",
      "48 steps ahead: -0.0004258504274214925\n",
      "49 steps ahead: -0.0010986658816729555\n",
      "50 steps ahead: -0.00107802540250157\n",
      "51 steps ahead: -0.000315211100984758\n",
      "52 steps ahead: 5.965069823743452e-05\n",
      "53 steps ahead: -0.00028440612731217563\n",
      "54 steps ahead: -0.0007134616399768756\n",
      "55 steps ahead: -0.0021190876045786844\n",
      "56 steps ahead: -0.0016170282909877542\n",
      "57 steps ahead: -0.0017494731937990338\n",
      "58 steps ahead: -0.0006013879841912928\n",
      "59 steps ahead: -0.0005255426887647019\n",
      "60 steps ahead: -0.00048172300595861195\n",
      "61 steps ahead: 3.5514527693125686e-05\n",
      "62 steps ahead: -1.422363054115472e-05\n",
      "63 steps ahead: -0.00026499441586480543\n",
      "64 steps ahead: -0.00029755224748040376\n",
      "65 steps ahead: -0.00020195178996806895\n",
      "66 steps ahead: -0.0006968659142865263\n",
      "67 steps ahead: -0.00022261866637585115\n",
      "68 steps ahead: 2.0604027143322767e-06\n",
      "69 steps ahead: -0.0005027117659726077\n",
      "70 steps ahead: -0.0012663007435396167\n",
      "71 steps ahead: -6.074613904361037e-05\n",
      "72 steps ahead: -0.00026586269093775705\n",
      "73 steps ahead: 3.8578752040829833e-05\n",
      "74 steps ahead: 5.21059224746212e-05\n",
      "75 steps ahead: -0.0005355984176782513\n",
      "76 steps ahead: -0.0003527527083155846\n",
      "77 steps ahead: -4.0053677294427104e-05\n",
      "78 steps ahead: -0.0001587400425100416\n",
      "79 steps ahead: -0.00018146328977231008\n",
      "80 steps ahead: 7.850053717395333e-06\n",
      "81 steps ahead: -0.00012522157166139358\n",
      "82 steps ahead: -0.00020969793083835953\n",
      "83 steps ahead: -0.00017272906395238152\n",
      "84 steps ahead: -0.0009981862902119776\n",
      "85 steps ahead: -0.00047384398438055086\n",
      "86 steps ahead: -0.0001008952001613217\n",
      "87 steps ahead: -2.4805427317975415e-05\n",
      "88 steps ahead: -5.5717240026620374e-05\n",
      "89 steps ahead: -9.672133668114924e-05\n",
      "90 steps ahead: -0.0004489989567055819\n",
      "91 steps ahead: -0.0008535654658254899\n",
      "92 steps ahead: -0.0005864223193690066\n",
      "93 steps ahead: -0.0007449346875960661\n",
      "94 steps ahead: -0.0004063101383797729\n",
      "95 steps ahead: -0.00017045654211966799\n",
      "96 steps ahead: -0.00010147407657346008\n",
      "97 steps ahead: -0.0001792504638433723\n",
      "98 steps ahead: -0.00012803891323520666\n",
      "99 steps ahead: -0.00012180558458285695\n"
     ]
    }
   ],
   "source": [
    "model1 = torch.load(paths.PATH)\n",
    "model1.eval()\n",
    "\n",
    "start = 40\n",
    "k = 100\n",
    "end= (start + k) if k != None else None\n",
    "\n",
    "model1.to('cpu')\n",
    "\n",
    "t_pred, t_real = metrics.r2_eval(model1, train_loader, k=end)\n",
    "v_pred, v_real = metrics.r2_eval(model1, val_loader, k=end)\n",
    "\n",
    "# f_pred, f_real = r2_eval(model1, full_loader,filt=ffull_loader, k=end)\n",
    "# print(f_real)\n",
    "# t_pred, t_real = r2_eval(model1, train_loader, filt=None ,k=end)\n",
    "# v_pred, v_real = r2_eval(model1, val_loader, filt=None, k=end)\n",
    "# f_pred, f_real = r2_eval(model1, full_loader,filt=None, k=end)\n",
    "# n_pred, n_real = r2_eval(model1, noise_loader, end)\n",
    "# s_pred, s_real = r2_eval(model1, sine_loader, end)\n",
    "\n",
    "# b_pred, b_real = r2_eval(model1, burst_loader, filt=fburst_loader,k=end)\n",
    "\n",
    "# for i in range(len(s_pred)):\n",
    "#     print(\"output: {} label: {}\".format(s_pred[i], s_real[i]))"
   ]
  },
  {
   "cell_type": "code",
   "execution_count": 8,
   "metadata": {},
   "outputs": [
    {
     "name": "stdout",
     "output_type": "stream",
     "text": [
      "Train MSE: 0.002022\n",
      "Val MSE: 0.002023\n",
      "(71680, 100)\n",
      "(71680, 100)\n"
     ]
    }
   ],
   "source": [
    "print(\"Train MSE: {:f}\".format(mean_squared_error(t_real, t_pred)))\n",
    "print(\"Val MSE: {:f}\".format(mean_squared_error(v_real, v_pred)))\n",
    "# print(\"Full MSE: {:f}\".format(mean_squared_error(f_real, f_pred)))\n",
    "# print(\"Burst MSE: {:f}\".format(mean_squared_error(b_real, b_pred)))\n",
    "print(t_real.shape)\n",
    "print(t_pred.shape)"
   ]
  },
  {
   "cell_type": "code",
   "execution_count": 9,
   "metadata": {},
   "outputs": [],
   "source": [
    "tp, vp, tr, vr = t_pred, v_pred, t_real, v_real"
   ]
  },
  {
   "cell_type": "code",
   "execution_count": 23,
   "metadata": {},
   "outputs": [
    {
     "name": "stdout",
     "output_type": "stream",
     "text": [
      "(71680,)\n",
      "(71680,)\n"
     ]
    }
   ],
   "source": [
    "# print(next(iter(train_loader))[0][:,2,0])\n",
    "# print(next(iter(burst_loader))[0][:,2,0])\n",
    "t_pred = tp[:,49]\n",
    "v_pred = vp[:,49]\n",
    "t_real = tr[:,49]\n",
    "v_real = vr[:,49]\n",
    "print(t_pred.shape)\n",
    "print(t_real.shape)"
   ]
  },
  {
   "cell_type": "code",
   "execution_count": 24,
   "metadata": {},
   "outputs": [
    {
     "data": {
      "application/vnd.jupyter.widget-view+json": {
       "model_id": "54933805cf0d486399565ae83351cb68",
       "version_major": 2,
       "version_minor": 0
      },
      "text/plain": [
       "Canvas(toolbar=Toolbar(toolitems=[('Home', 'Reset original view', 'home', 'home'), ('Back', 'Back to previous …"
      ]
     },
     "metadata": {},
     "output_type": "display_data"
    },
    {
     "data": {
      "text/plain": [
       "Text(0.5, -5.47777777777778, 'Epoch')"
      ]
     },
     "execution_count": 24,
     "metadata": {},
     "output_type": "execute_result"
    }
   ],
   "source": [
    "fig1, ax1 = plt.subplots(nrows=1, ncols=2)\n",
    "fig1.tight_layout()\n",
    "ax1[0].plot(range(params.EPOCHS), pnfr_training_loss)\n",
    "ax1[0].set_title('Training Loss')\n",
    "ax1[0].set_ylabel('Loss')\n",
    "ax1[0].set_xlabel('Epoch')\n",
    "\n",
    "ax1[1].plot(range(params.EPOCHS), pnfr_validation_loss)\n",
    "ax1[1].set_title('Validation Loss')\n",
    "ax1[1].set_ylabel('Loss')\n",
    "ax1[1].set_xlabel('Epoch')"
   ]
  },
  {
   "cell_type": "code",
   "execution_count": 25,
   "metadata": {},
   "outputs": [
    {
     "data": {
      "application/vnd.jupyter.widget-view+json": {
       "model_id": "d7a2c763c85945858b5f97d52109d384",
       "version_major": 2,
       "version_minor": 0
      },
      "text/plain": [
       "Canvas(toolbar=Toolbar(toolitems=[('Home', 'Reset original view', 'home', 'home'), ('Back', 'Back to previous …"
      ]
     },
     "metadata": {},
     "output_type": "display_data"
    },
    {
     "name": "stdout",
     "output_type": "stream",
     "text": [
      "(140,) (140,)\n"
     ]
    }
   ],
   "source": [
    "fig, ax = plt.subplots(nrows=2, ncols=1)\n",
    "fig.tight_layout()\n",
    "\n",
    "ax[0].plot(np.arange(0,end), v_real[0:end], color='blue',label='Labels')\n",
    "# ax[2,0].plot(np.arange(start-10,end), v_output_list[start-10:end,2], color='red',label='Internal Loop')\n",
    "print(np.arange(0,end).shape, v_pred[:end].shape)\n",
    "ax[0].scatter(np.arange(0,end), v_pred[:end], color='slateblue',label='Predicted t+50')\n",
    "# ax[0].scatter(np.arange(start-params.OUTPUT_SIZE,end), v_pred[start-2:end+8,1], color='lightsteelblue',label='Training t+2')\n",
    "# ax[0].scatter(np.arange(start-params.OUTPUT_SIZE,end), v_pred[start-3:end+7,2], color='gray',label='Training t+3')\n",
    "# ax[0].scatter(np.arange(start-params.OUTPUT_SIZE,end), v_pred[start-4:end+6,3], color='sienna',label='Training t+4')\n",
    "# ax[0].scatter(np.arange(start-params.OUTPUT_SIZE,end), v_pred[start-5:end+5,4], color='magenta',label='Training t+5')\n",
    "# ax[0].scatter(np.arange(start-10,end), v_pred[start-6:end+4,5], color='aquamarine',label='Training t+6')\n",
    "# ax[0].scatter(np.arange(start-10,end), v_pred[start-7:end+3,6], color='darkorange',label='Training t+7')\n",
    "# ax[0].scatter(np.arange(start-10,end), v_pred[start-8:end+2,7], color='brown',label='Training t+8')\n",
    "# ax[0].scatter(np.arange(start-10,end), v_pred[start-9:end+1,8], color='purple',label='Training t+9')\n",
    "# ax[0].plot(np.arange(start-10,end), v_pred[start-10:end], color='green',label='Training t+10')\n",
    "\n",
    "\n",
    "ax[0].set_title('Validation LSTM')\n",
    "ax[0].set_ylabel('LFP')\n",
    "ax[0].set_xlabel('Time')\n",
    "# ax[2,0].legend()\n",
    "\n",
    "ax[1].plot(np.arange(0,end), t_real[:end], color='blue',label='Labels')\n",
    "# a[2,1].plot(np.arange(start-10,end), t_output_list[start-10:end,2], color='red',label='Internal Loop')\n",
    "ax[1].scatter(np.arange(0,end), t_pred[:end], color='slateblue',label='Training t+50')\n",
    "# ax[1].scatter(np.arange(start-params.OUTPUT_SIZE,end), t_pred[start-2:end+8,1], color='lightsteelblue',label='Training t+2')\n",
    "# ax[1].scatter(np.arange(start-params.OUTPUT_SIZE,end), t_pred[start-3:end+7,2], color='gray',label='Training t+3')\n",
    "# ax[1].scatter(np.arange(start-params.OUTPUT_SIZE,end), t_pred[start-4:end+6,3], color='sienna',label='Training t+4')\n",
    "# ax[1].scatter(np.arange(start-params.OUTPUT_SIZE,end), t_pred[start-5:end+5,4], color='magenta',label='Training t+5')\n",
    "# ax[1].scatter(np.arange(start-10,end), t_pred[start-6:end+4,5], color='aquamarine',label='Training t+6')\n",
    "# ax[1].scatter(np.arange(start-10,end), t_pred[start-7:end+3,6], color='darkorange',label='Training t+7')\n",
    "# ax[1].scatter(np.arange(start-10,end), t_pred[start-8:end+2,7], color='brown',label='Training t+8')\n",
    "# ax[1].scatter(np.arange(start-10,end), t_pred[start-9:end+1,8], color='purple',label='Training t+9')\n",
    "# ax[1].plot(np.arange(start-10,end), t_pred[start-10:end], color='green',label='Training t+10')\n",
    "\n",
    "ax[1].set_title('Training LSTM')\n",
    "ax[1].set_ylabel('LFP')\n",
    "ax[1].set_xlabel('Time')\n",
    "ax[0].legend(loc=2, prop={'size': 6})\n",
    "\n",
    "# import plotly.tools as tls\n",
    "# plotly_fig = tls.mpl_to_plotly(fig)\n",
    "# plotly_fig.write_html(\"testfile.html\")\n",
    "plt.show()"
   ]
  },
  {
   "cell_type": "code",
   "execution_count": 22,
   "metadata": {},
   "outputs": [
    {
     "data": {
      "application/vnd.jupyter.widget-view+json": {
       "model_id": "0e76179ad67a426d862954e10bdeb107",
       "version_major": 2,
       "version_minor": 0
      },
      "text/plain": [
       "Canvas(toolbar=Toolbar(toolitems=[('Home', 'Reset original view', 'home', 'home'), ('Back', 'Back to previous …"
      ]
     },
     "metadata": {},
     "output_type": "display_data"
    },
    {
     "ename": "NameError",
     "evalue": "name 'f_real' is not defined",
     "output_type": "error",
     "traceback": [
      "\u001b[0;31m---------------------------------------------------------------------------\u001b[0m",
      "\u001b[0;31mNameError\u001b[0m                                 Traceback (most recent call last)",
      "\u001b[0;32m<ipython-input-22-73420cd843a1>\u001b[0m in \u001b[0;36m<module>\u001b[0;34m\u001b[0m\n\u001b[1;32m      2\u001b[0m \u001b[0mfig\u001b[0m\u001b[0;34m.\u001b[0m\u001b[0mtight_layout\u001b[0m\u001b[0;34m(\u001b[0m\u001b[0;34m)\u001b[0m\u001b[0;34m\u001b[0m\u001b[0;34m\u001b[0m\u001b[0m\n\u001b[1;32m      3\u001b[0m \u001b[0;34m\u001b[0m\u001b[0m\n\u001b[0;32m----> 4\u001b[0;31m \u001b[0max\u001b[0m\u001b[0;34m.\u001b[0m\u001b[0mplot\u001b[0m\u001b[0;34m(\u001b[0m\u001b[0mnp\u001b[0m\u001b[0;34m.\u001b[0m\u001b[0marange\u001b[0m\u001b[0;34m(\u001b[0m\u001b[0mstart\u001b[0m\u001b[0;34m,\u001b[0m\u001b[0mend\u001b[0m\u001b[0;34m)\u001b[0m\u001b[0;34m,\u001b[0m \u001b[0mf_real\u001b[0m\u001b[0;34m[\u001b[0m\u001b[0mstart\u001b[0m\u001b[0;34m:\u001b[0m\u001b[0mend\u001b[0m\u001b[0;34m]\u001b[0m\u001b[0;34m,\u001b[0m \u001b[0mcolor\u001b[0m\u001b[0;34m=\u001b[0m\u001b[0;34m'blue'\u001b[0m\u001b[0;34m,\u001b[0m\u001b[0mlabel\u001b[0m\u001b[0;34m=\u001b[0m\u001b[0;34m'Labels'\u001b[0m\u001b[0;34m)\u001b[0m\u001b[0;34m\u001b[0m\u001b[0;34m\u001b[0m\u001b[0m\n\u001b[0m\u001b[1;32m      5\u001b[0m \u001b[0max\u001b[0m\u001b[0;34m.\u001b[0m\u001b[0mscatter\u001b[0m\u001b[0;34m(\u001b[0m\u001b[0mnp\u001b[0m\u001b[0;34m.\u001b[0m\u001b[0marange\u001b[0m\u001b[0;34m(\u001b[0m\u001b[0mstart\u001b[0m\u001b[0;34m,\u001b[0m\u001b[0mend\u001b[0m\u001b[0;34m)\u001b[0m\u001b[0;34m,\u001b[0m \u001b[0mf_pred\u001b[0m\u001b[0;34m[\u001b[0m\u001b[0mstart\u001b[0m\u001b[0;34m:\u001b[0m\u001b[0mend\u001b[0m\u001b[0;34m]\u001b[0m\u001b[0;34m,\u001b[0m \u001b[0mcolor\u001b[0m\u001b[0;34m=\u001b[0m\u001b[0;34m'red'\u001b[0m\u001b[0;34m,\u001b[0m\u001b[0mlabel\u001b[0m\u001b[0;34m=\u001b[0m\u001b[0;34m'Training t+10'\u001b[0m\u001b[0;34m)\u001b[0m\u001b[0;34m\u001b[0m\u001b[0;34m\u001b[0m\u001b[0m\n\u001b[1;32m      6\u001b[0m \u001b[0max\u001b[0m\u001b[0;34m.\u001b[0m\u001b[0mset_title\u001b[0m\u001b[0;34m(\u001b[0m\u001b[0;34m'Full LFP vs Time'\u001b[0m\u001b[0;34m)\u001b[0m\u001b[0;34m\u001b[0m\u001b[0;34m\u001b[0m\u001b[0m\n",
      "\u001b[0;31mNameError\u001b[0m: name 'f_real' is not defined"
     ]
    }
   ],
   "source": [
    "fig, ax = plt.subplots(nrows=1, ncols=1)\n",
    "fig.tight_layout()\n",
    "\n",
    "ax.plot(np.arange(start,end), f_real[start:end], color='blue',label='Labels')\n",
    "ax.scatter(np.arange(start,end), f_pred[start:end], color='red',label='Training t+10')\n",
    "ax.set_title('Full LFP vs Time')\n",
    "ax.set_ylabel('Signal')\n",
    "ax.set_xlabel('Time')\n",
    "\n",
    "# ax[1].plot(np.arange(start,end), n_real[start:end], color='blue',label='Labels')\n",
    "# ax[1].scatter(np.arange(start,end), n_pred[start:end], color='red',label='Training t+10')\n",
    "# ax[1].set_title('Noise')\n",
    "# ax[1].set_ylabel('Signal')\n",
    "# ax[1].set_xlabel('Time')z\n",
    "\n",
    "# ax.plot(np.arange(start,end), s_real[start:end], color='blue',label='Labels')\n",
    "# ax.scatter(np.arange(start,end), s_pred[start:end], color='red',label='Training t+10')\n",
    "# ax.set_title('Sine')\n",
    "# ax.set_ylabel('LFP')\n",
    "# ax.set_xlabel('Time')\n",
    "\n",
    "plt.show()"
   ]
  },
  {
   "cell_type": "code",
   "execution_count": null,
   "metadata": {},
   "outputs": [],
   "source": [
    "plt.close('all')"
   ]
  },
  {
   "cell_type": "code",
   "execution_count": null,
   "metadata": {},
   "outputs": [],
   "source": [
    "import loss_landscapes\n",
    "import loss_landscapes.metrics\n",
    "from mpl_toolkits.mplot3d import axes3d, Axes3D \n",
    "\n",
    "STEPS = 100\n",
    "# model_initial = params.MODEL(params.INPUT_SIZE,params.HIDDEN_SIZE,params.OUTPUT_SIZE)\n",
    "model_final = copy.deepcopy(model1)\n",
    "\n",
    "\n",
    "# data that the evaluator will use when evaluating loss\n",
    "x, y = iter(noise_loader).__next__()\n",
    "metric = loss_landscapes.metrics.Loss(nn.MSELoss(), x, y)\n",
    "\n",
    "\n",
    "loss_data_fin = loss_landscapes.random_plane(model_final, metric, 10000, STEPS, normalization='model', deepcopy_model=True)\n",
    "# plt.contour(loss_data_fin, levels=50)\n",
    "# plt.title('Loss Contours around Trained Model')\n",
    "# plt.show()"
   ]
  },
  {
   "cell_type": "code",
   "execution_count": null,
   "metadata": {},
   "outputs": [],
   "source": [
    "fig = plt.figure()\n",
    "ax = Axes3D(fig)\n",
    "X = np.array([[j for j in range(STEPS)] for i in range(STEPS)])\n",
    "Y = np.array([[i for _ in range(STEPS)] for i in range(STEPS)])\n",
    "ax.plot_surface(X, Y, loss_data_fin, rstride=1, cstride=1, cmap='viridis', edgecolor='none')\n",
    "ax.set_title('Surface Plot of Loss Landscape')\n",
    "fig.show()"
   ]
  },
  {
   "cell_type": "code",
   "execution_count": null,
   "metadata": {},
   "outputs": [],
   "source": [
    "print(model1.state_dict()['conv_block.0.weight'])\n",
    "print(model1.state_dict()['conv_block.0.bias'])\n",
    "print(model1.state_dict()['conv_block.2.weight'])\n",
    "print(model1.state_dict()['conv_block.2.bias'])\n",
    "print(model1.state_dict()['ck1s1.weight'])\n",
    "print(model1.state_dict()['ck1s1.bias'])\n",
    "print(model1.state_dict()['fc1.weight'])\n",
    "print(model1.state_dict()['fc1.bias'])\n",
    "print(model1.state_dict()['fc2.weight'])\n",
    "print(model1.state_dict()['fc2.bias'])"
   ]
  },
  {
   "cell_type": "code",
   "execution_count": null,
   "metadata": {},
   "outputs": [],
   "source": [
    "print(model1.state_dict())"
   ]
  },
  {
   "cell_type": "code",
   "execution_count": null,
   "metadata": {},
   "outputs": [],
   "source": []
  }
 ],
 "metadata": {
  "kernelspec": {
   "display_name": "Python 3",
   "language": "python",
   "name": "python3"
  },
  "language_info": {
   "codemirror_mode": {
    "name": "ipython",
    "version": 3
   },
   "file_extension": ".py",
   "mimetype": "text/x-python",
   "name": "python",
   "nbconvert_exporter": "python",
   "pygments_lexer": "ipython3",
   "version": "3.8.11"
  }
 },
 "nbformat": 4,
 "nbformat_minor": 4
}
